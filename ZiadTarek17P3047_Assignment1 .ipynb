{
 "cells": [
  {
   "cell_type": "code",
   "execution_count": 22,
   "metadata": {},
   "outputs": [
    {
     "name": "stdout",
     "output_type": "stream",
     "text": [
      "\u001b[1;32mPASS\u001b[m NumPy installed\n",
      "\u001b[1;32mPASS\u001b[m SciPy installed\n",
      "\u001b[1;32mPASS\u001b[m matplotlib installed\n",
      "\u001b[1;32mPASS\u001b[m PyTorch installed\n",
      "\u001b[1;32mPASS\u001b[m tqdm installed\n"
     ]
    }
   ],
   "source": [
    "import traceback\n",
    "\n",
    "\n",
    "def green(s):\n",
    "    return '\\033[1;32m%s\\033[m' % s\n",
    "\n",
    "\n",
    "def yellow(s):\n",
    "    return '\\033[1;33m%s\\033[m' % s\n",
    "\n",
    "\n",
    "def red(s):\n",
    "    return '\\033[1;31m%s\\033[m' % s\n",
    "\n",
    "\n",
    "def log(*m):\n",
    "    print(\" \".join(map(str, m)))\n",
    "\n",
    "\n",
    "def log_exit(*m):\n",
    "    log(red(\"ERROR:\"), *m)\n",
    "    exit(1)\n",
    "\n",
    "\n",
    "def check_numpy():\n",
    "    try:\n",
    "        import numpy\n",
    "        log(green(\"PASS\"), \"NumPy installed\")\n",
    "    except ModuleNotFoundError:\n",
    "        log(red(\"FAIL\"), \"NumPy not installed\")\n",
    "\n",
    "\n",
    "def check_scipy():\n",
    "    try:\n",
    "        import scipy\n",
    "        log(green(\"PASS\"), \"SciPy installed\")\n",
    "    except ModuleNotFoundError:\n",
    "        log(red(\"FAIL\"), \"SciPy not installed\")\n",
    "\n",
    "\n",
    "def check_matplotlib():\n",
    "    try:\n",
    "        import matplotlib\n",
    "        log(green(\"PASS\"), \"matplotlib installed\")\n",
    "    except ModuleNotFoundError:\n",
    "        log(red(\"FAIL\"), \"matplotlib not installed\")\n",
    "\n",
    "\n",
    "def check_torch():\n",
    "    try:\n",
    "        import torch\n",
    "        log(green(\"PASS\"), \"PyTorch installed\")\n",
    "    except ModuleNotFoundError:\n",
    "        log(red(\"FAIL\"), \"PyTorch not installed\")\n",
    "\n",
    "\n",
    "def check_tqdm():\n",
    "    try:\n",
    "        import tqdm\n",
    "        log(green(\"PASS\"), \"tqdm installed\")\n",
    "    except ModuleNotFoundError:\n",
    "        log(red(\"FAIL\"), \"tqdm not installed\")\n",
    "\n",
    "\n",
    "def main():\n",
    "    try:\n",
    "        check_numpy()\n",
    "        check_scipy()\n",
    "        check_matplotlib()\n",
    "        check_torch()\n",
    "        check_tqdm()\n",
    "    except Exception:\n",
    "        log_exit(traceback.format_exc())\n",
    "\n",
    "\n",
    "if __name__ == \"__main__\":\n",
    "    main()"
   ]
  },
  {
   "cell_type": "code",
   "execution_count": 12,
   "metadata": {},
   "outputs": [],
   "source": [
    "import numpy as np\n",
    "\n",
    "def randomization(n):\n",
    "    \"\"\"\n",
    "    Arg:\n",
    "      n - an integer\n",
    "    Returns:\n",
    "      A - a randomly-generated nx1 Numpy array.\n",
    "    \"\"\"\n",
    "    #Your code here\n",
    "    arr=np.random.rand(n,1)\n",
    "    return arr"
   ]
  },
  {
   "cell_type": "code",
   "execution_count": 13,
   "metadata": {},
   "outputs": [],
   "source": [
    "z=randomization(5)"
   ]
  },
  {
   "cell_type": "code",
   "execution_count": 14,
   "metadata": {},
   "outputs": [
    {
     "data": {
      "text/plain": [
       "array([[0.5335035 ],\n",
       "       [0.54739015],\n",
       "       [0.11052622],\n",
       "       [0.06616966],\n",
       "       [0.59760459]])"
      ]
     },
     "execution_count": 14,
     "metadata": {},
     "output_type": "execute_result"
    }
   ],
   "source": [
    "z"
   ]
  },
  {
   "cell_type": "code",
   "execution_count": 15,
   "metadata": {},
   "outputs": [],
   "source": [
    "def operations(h, w):\n",
    "    \"\"\"\n",
    "    Takes two inputs, h and w, and makes two Numpy arrays A and B of size\n",
    "    h x w, and returns A, B, and s, the sum of A and B.\n",
    "\n",
    "    Arg:\n",
    "      h - an integer describing the height of A and B\n",
    "      w - an integer describing the width of A and B\n",
    "    Returns (in this order):\n",
    "      A - a randomly-generated h x w Numpy array.\n",
    "      B - a randomly-generated h x w Numpy array.\n",
    "      s - the sum of A and B.\n",
    "    \"\"\"\n",
    "    #Your code here\n",
    "    A = np.random.rand(h, w)\n",
    "    B = np.random.rand(h, w)\n",
    "    s = A+B\n",
    "    return A,B,s"
   ]
  },
  {
   "cell_type": "code",
   "execution_count": 16,
   "metadata": {},
   "outputs": [],
   "source": [
    "a,b,c= operations(4,5)"
   ]
  },
  {
   "cell_type": "code",
   "execution_count": 17,
   "metadata": {},
   "outputs": [
    {
     "data": {
      "text/plain": [
       "array([[0.51142379, 0.20325304, 0.13449059, 0.9053437 , 0.40518562],\n",
       "       [0.57275975, 0.81276706, 0.33163493, 0.62703785, 0.23032583],\n",
       "       [0.23720143, 0.97695893, 0.94878482, 0.41017182, 0.71174762],\n",
       "       [0.86544077, 0.2157343 , 0.26688707, 0.68972757, 0.02147381]])"
      ]
     },
     "execution_count": 17,
     "metadata": {},
     "output_type": "execute_result"
    }
   ],
   "source": [
    "a"
   ]
  },
  {
   "cell_type": "code",
   "execution_count": 18,
   "metadata": {},
   "outputs": [
    {
     "data": {
      "text/plain": [
       "array([[0.24890024, 0.05296095, 0.88703914, 0.76266203, 0.40828716],\n",
       "       [0.3223995 , 0.07313882, 0.41041203, 0.40649327, 0.5770882 ],\n",
       "       [0.34790307, 0.7924397 , 0.9881574 , 0.64159799, 0.78592748],\n",
       "       [0.83511651, 0.78159997, 0.43650863, 0.19970185, 0.99906861]])"
      ]
     },
     "execution_count": 18,
     "metadata": {},
     "output_type": "execute_result"
    }
   ],
   "source": [
    "b"
   ]
  },
  {
   "cell_type": "code",
   "execution_count": 19,
   "metadata": {},
   "outputs": [
    {
     "data": {
      "text/plain": [
       "array([[0.76032403, 0.25621399, 1.02152973, 1.66800573, 0.81347277],\n",
       "       [0.89515925, 0.88590588, 0.74204696, 1.03353112, 0.80741403],\n",
       "       [0.5851045 , 1.76939863, 1.93694222, 1.05176981, 1.49767509],\n",
       "       [1.70055728, 0.99733427, 0.7033957 , 0.88942942, 1.02054241]])"
      ]
     },
     "execution_count": 19,
     "metadata": {},
     "output_type": "execute_result"
    }
   ],
   "source": [
    "c"
   ]
  },
  {
   "cell_type": "code",
   "execution_count": 21,
   "metadata": {},
   "outputs": [],
   "source": [
    "def norm(A, B):\n",
    "    \"\"\"\n",
    "    Takes two Numpy column arrays, A and B, and returns the L2 norm of their\n",
    "    sum.\n",
    "\n",
    "    Arg:\n",
    "      A - a Numpy array\n",
    "      B - a Numpy array\n",
    "    Returns:\n",
    "      s - the L2 norm of A+B.\n",
    "    \"\"\"\n",
    "    #Your code here\n",
    "    s = np.linalg.norm(A+B)\n",
    "    return s"
   ]
  },
  {
   "cell_type": "code",
   "execution_count": 24,
   "metadata": {},
   "outputs": [
    {
     "data": {
      "text/plain": [
       "2.589956497011694"
      ]
     },
     "execution_count": 24,
     "metadata": {},
     "output_type": "execute_result"
    }
   ],
   "source": [
    "a1=randomization(5)\n",
    "a2=randomization(5)\n",
    "norm(a1,a2)"
   ]
  },
  {
   "cell_type": "code",
   "execution_count": 26,
   "metadata": {},
   "outputs": [],
   "source": [
    "def neural_network(inputs, weights):\n",
    "    \"\"\"\n",
    "     Takes an input vector and runs it through a 1-layer neural network\n",
    "     with a given weight matrix and returns the output.\n",
    "\n",
    "     Arg:\n",
    "       inputs - 2 x 1 NumPy array\n",
    "       weights - 2 x 1 NumPy array\n",
    "     Returns (in this order):\n",
    "       out - a 1 x 1 NumPy array, representing the output of the neural network\n",
    "    \"\"\"\n",
    "    #Your code here\n",
    "    mul=np.matmul(weights.transpose(),inputs)\n",
    "    out=np.tanh(mul)\n",
    "    return out"
   ]
  },
  {
   "cell_type": "code",
   "execution_count": null,
   "metadata": {},
   "outputs": [],
   "source": []
  },
  {
   "cell_type": "code",
   "execution_count": 46,
   "metadata": {},
   "outputs": [],
   "source": [
    "inputs=np.array([0,0,1])\n",
    "weights=2 * np.random.random((3, 1)) - 1\n",
    "out=neural_network(inputs, weights)\n"
   ]
  },
  {
   "cell_type": "code",
   "execution_count": 47,
   "metadata": {},
   "outputs": [],
   "source": [
    "weights=2 * np.random.random((3, 1)) - 1"
   ]
  },
  {
   "cell_type": "code",
   "execution_count": 48,
   "metadata": {},
   "outputs": [
    {
     "data": {
      "text/plain": [
       "array([[-0.61099253,  0.13431091,  0.48210929]])"
      ]
     },
     "execution_count": 48,
     "metadata": {},
     "output_type": "execute_result"
    }
   ],
   "source": [
    "weights.transpose()"
   ]
  },
  {
   "cell_type": "code",
   "execution_count": 49,
   "metadata": {},
   "outputs": [
    {
     "data": {
      "text/plain": [
       "array([0, 0, 1])"
      ]
     },
     "execution_count": 49,
     "metadata": {},
     "output_type": "execute_result"
    }
   ],
   "source": [
    "inputs"
   ]
  },
  {
   "cell_type": "code",
   "execution_count": 50,
   "metadata": {},
   "outputs": [
    {
     "data": {
      "text/plain": [
       "array([0.52048883])"
      ]
     },
     "execution_count": 50,
     "metadata": {},
     "output_type": "execute_result"
    }
   ],
   "source": [
    "out"
   ]
  },
  {
   "cell_type": "code",
   "execution_count": 27,
   "metadata": {},
   "outputs": [],
   "source": [
    "def scalar_function(x, y):\n",
    "    \"\"\"\n",
    "    Returns the f(x,y) defined in the problem statement.\n",
    "    \"\"\"\n",
    "    if(x<=y):\n",
    "        return x*y\n",
    "    else:\n",
    "        return x/y"
   ]
  },
  {
   "cell_type": "code",
   "execution_count": 31,
   "metadata": {},
   "outputs": [],
   "source": [
    "def vector_function(x, y):\n",
    "    \"\"\"\n",
    "    Make sure vector_function can deal with vector input x,y\n",
    "    \"\"\"\n",
    "    out = np.vectorize(scalar_function)\n",
    "    return out(x,y)"
   ]
  },
  {
   "cell_type": "code",
   "execution_count": 33,
   "metadata": {},
   "outputs": [
    {
     "data": {
      "text/plain": [
       "1.25"
      ]
     },
     "execution_count": 33,
     "metadata": {},
     "output_type": "execute_result"
    }
   ],
   "source": [
    "scalar_function(5,4)"
   ]
  },
  {
   "cell_type": "code",
   "execution_count": 34,
   "metadata": {},
   "outputs": [
    {
     "data": {
      "text/plain": [
       "array(20)"
      ]
     },
     "execution_count": 34,
     "metadata": {},
     "output_type": "execute_result"
    }
   ],
   "source": [
    "vector_function(4,5)"
   ]
  },
  {
   "cell_type": "code",
   "execution_count": null,
   "metadata": {},
   "outputs": [],
   "source": []
  }
 ],
 "metadata": {
  "kernelspec": {
   "display_name": "Python 3",
   "language": "python",
   "name": "python3"
  },
  "language_info": {
   "codemirror_mode": {
    "name": "ipython",
    "version": 3
   },
   "file_extension": ".py",
   "mimetype": "text/x-python",
   "name": "python",
   "nbconvert_exporter": "python",
   "pygments_lexer": "ipython3",
   "version": "3.7.6"
  }
 },
 "nbformat": 4,
 "nbformat_minor": 4
}
